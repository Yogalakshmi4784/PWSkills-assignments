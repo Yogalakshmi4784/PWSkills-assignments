{
 "cells": [
  {
   "cell_type": "markdown",
   "id": "733c0b67",
   "metadata": {},
   "source": [
    "##### Q1: What are the Probability Mass Function (PMF) and Probability Density Function (PDF)? Explain with an example."
   ]
  },
  {
   "cell_type": "markdown",
   "id": "dc174b49",
   "metadata": {},
   "source": [
    "The Probability Mass Function (PMF) applies to discrete random variables, providing the probability of each specific outcome.\n",
    "Example: Consider rolling a fair six-sided die. The PMF for this scenario would give the probability of getting each possible outcome (1, 2, 3, 4, 5, or 6) on a single roll.\n",
    "\n",
    "The Probability Density Function (PDF) applies to continuous random variables, indicating the relative likelihood of values within a range. For example, rolling a fair die has a PMF, while human heights have a PDF.\n",
    "Example: Consider the height of adult humans. The PDF for this scenario would give the relative likelihood of finding a person with a particular height. Since height is continuous, the PDF describes the distribution of possible heights."
   ]
  },
  {
   "cell_type": "markdown",
   "id": "6fd9067d",
   "metadata": {},
   "source": [
    "##### Q2: What is Cumulative Density Function (CDF)? Explain with an example. Why CDF is used?"
   ]
  },
  {
   "cell_type": "markdown",
   "id": "c5166c99",
   "metadata": {},
   "source": [
    "The Cumulative Density Function (CDF) gives the probability that a random variable X will take on a value less than or equal to a specific value x.\n",
    "\n",
    "The CDF is used to assess probabilities associated with a random variable. It provides a way to calculate probabilities for ranges of values and can be utilized to find percentiles or quantiles, which are crucial in statistical analysis and decision-making processes.\n",
    "\n",
    "Here's an example: Consider a fair six-sided die. The CDF for rolling this die would show the probabilities of getting a result less than or equal to each possible outcome (1, 2, 3, 4, 5, or 6). For instance, the CDF might indicate that the probability of rolling a number less than or equal to 3 is 1/2, as half of the die's sides show numbers less than or equal to 3.\n",
    "\n",
    "In summary, the CDF summarizes the distribution of a random variable, providing a comprehensive view of the probabilities associated with different values or ranges."
   ]
  },
  {
   "cell_type": "markdown",
   "id": "35807f39",
   "metadata": {},
   "source": [
    "##### Q3: What are some examples of situations where the normal distribution might be used as a model? Explain how the parameters of the normal distribution relate to the shape of the distribution"
   ]
  },
  {
   "cell_type": "markdown",
   "id": "e7201076",
   "metadata": {},
   "source": [
    "The normal distribution is commonly used to model various natural phenomena and human behaviors due to its versatility and prevalence. Some examples of situations where the normal distribution might be used as a model include:\n",
    "\n",
    "Physical Measurements: Heights, weights, and lengths of objects often follow a normal distribution.\n",
    "Biological Traits: Characteristics such as blood pressure, heart rate, and IQ scores are often modeled using a normal distribution.\n",
    "Financial Data: Stock prices, returns on investments, and income levels in populations can often be approximated by a normal distribution.\n",
    "Errors in Measurements: In scientific experiments or industrial processes, measurement errors often follow a normal distribution.\n",
    "\n",
    "The mean (μ) determines the center, while the standard deviation (σ) controls the spread. A higher σ leads to a wider, flatter curve, while a lower σ results in a narrower, taller curve."
   ]
  },
  {
   "cell_type": "markdown",
   "id": "4f8003a9",
   "metadata": {},
   "source": [
    "##### Q4: Explain the importance of Normal Distribution. Give a few real-life examples of Normal Distribution."
   ]
  },
  {
   "cell_type": "markdown",
   "id": "255b5bb7",
   "metadata": {},
   "source": [
    "The normal distribution is crucial because it's prevalent in nature and human behavior, aligns with the Central Limit Theorem, is simple with only two parameters, facilitates statistical methods, and aids predictive modeling and forecasting.\n",
    "\n",
    "- Physical Measurements: Heights, weights, and lengths of objects often follow a normal distribution.\n",
    "- Biological Traits: Characteristics such as blood pressure, heart rate, and IQ scores are often modeled using a normal distribution.\n",
    "- Financial Data: Stock prices, returns on investments, and income levels in populations can often be approximated by a normal distribution.\n",
    "- Errors in Measurements: In scientific experiments or industrial processes, measurement errors often follow a normal distribution."
   ]
  },
  {
   "cell_type": "markdown",
   "id": "09a0fc8a",
   "metadata": {},
   "source": [
    "##### Q5: What is Bernaulli Distribution? Give an Example. What is the difference between Bernoulli Distribution and Binomial Distribution?"
   ]
  },
  {
   "cell_type": "markdown",
   "id": "16ac8b98",
   "metadata": {},
   "source": [
    "The Bernoulli distribution models a single binary outcome (success or failure) with a probability p of success and 1−p of failure in a single trial.\n",
    "in a single trial\n",
    "\n",
    "Example: Flipping a fair coin, where \"heads\" is success (with probability p=0.5) and \"tails\" is failure.\n",
    "\n",
    "Difference:\n",
    "\n",
    "Bernoulli Distribution: Models a single trial with two possible outcomes.\n",
    "    \n",
    "Binomial Distribution: Models the number of successes in a fixed number of independent trials, each with the same probability of success. It's the sum of independent and identically distributed Bernoulli random variables."
   ]
  },
  {
   "cell_type": "markdown",
   "id": "ec1b4286",
   "metadata": {},
   "source": [
    "#### Q6. Consider a dataset with a mean of 50 and a standard deviation of 10. If we assume that the dataset is normally distributed, what is the probability that a randomly selected observation will be greater than 60? Use the appropriate formula and show your calculations."
   ]
  },
  {
   "cell_type": "markdown",
   "id": "f8f2a1e5",
   "metadata": {},
   "source": [
    "we can use the Z-score formula and then look up the probability from the standard normal distribution table.\n",
    "\n",
    "The Z-score formula is:\n",
    "\n",
    "Z= X−μ/σ\n",
    "\n",
    "\n",
    "Where:\n",
    "\n",
    "\n",
    "X is the value we're interested in (in this case, 60).\n",
    "\n",
    "μ is the mean of the dataset (50).\n",
    "\n",
    "σ is the standard deviation of the dataset (10).\n",
    "Calculating the Z-score:\n",
    "\n",
    "\n",
    "Z= 60−50/10=1\n",
    "\n",
    "Now, we find the probability of Z>1 using a standard normal distribution table or calculator. The probability that a randomly selected observation will be greater than 60 is the area under the standard normal curve to the right of Z=1.\n",
    "\n",
    "From the standard normal distribution table, we find that the probability corresponding to Z=1 is approximately 0.8413.\n",
    "\n",
    "Therefore, the probability that a randomly selected observation will be greater than 60 is approximately 1−0.8413=0.1587\n",
    "or 15.87%."
   ]
  },
  {
   "cell_type": "markdown",
   "id": "8b760e4d",
   "metadata": {},
   "source": [
    "##### Q7: Explain uniform Distribution with an example."
   ]
  },
  {
   "cell_type": "markdown",
   "id": "031cdfa9",
   "metadata": {},
   "source": [
    "The uniform distribution is a probability distribution where all outcomes within a given range are equally likely. It's characterized by a constant probability density function (PDF) over the range of possible values.\n",
    "\n",
    "Example: Consider rolling a fair six-sided die. Each face has an equal chance of landing face up, resulting in a uniform distribution. The probability of rolling any specific number (1, 2, 3, 4, 5, or 6) is 1/6 , as each outcome is equally likely.\n",
    "\n",
    "In summary, the uniform distribution models situations where all outcomes within a range are equally probable, such as rolling a fair die or selecting a random number from a given interval."
   ]
  },
  {
   "cell_type": "markdown",
   "id": "cd7d5be5",
   "metadata": {},
   "source": [
    "##### Q8: What is the z score? State the importance of the z score."
   ]
  },
  {
   "cell_type": "markdown",
   "id": "a52149fa",
   "metadata": {},
   "source": [
    "The z-score (or standard score) measures the number of standard deviations a data point is from the mean of a dataset. It's calculated by subtracting the mean from the individual value and then dividing by the standard deviation.\n",
    "\n",
    "Z= X−μ/σ\n",
    "\n",
    "where:\n",
    "\n",
    "\n",
    "X is the individual data point,\n",
    "\n",
    "μ is the mean of the dataset, and\n",
    "\n",
    "σ is the standard deviation of the dataset.\n",
    "\n",
    "The importance of the z-score lies in its ability to standardize data, allowing comparisons between different datasets with different units or scales. It helps identify outliers, assess the relative position of a data point within a distribution, and make statistical inferences. Z-scores are extensively used in hypothesis testing, confidence interval estimation, and in understanding the distribution of data relative to its mean and standard deviation."
   ]
  },
  {
   "cell_type": "markdown",
   "id": "e8a914c2",
   "metadata": {},
   "source": [
    "##### Q9: What is Central Limit Theorem? State the significance of the Central Limit Theorem."
   ]
  },
  {
   "cell_type": "markdown",
   "id": "86a09ca8",
   "metadata": {},
   "source": [
    "The Central Limit Theorem (CLT) states that the sampling distribution of the sample mean of a random sample drawn from any population will be approximately normally distributed, regardless of the shape of the original population distribution, given that the sample size is sufficiently large.\n",
    "\n",
    "Significance:\n",
    "\n",
    "Foundation of Statistical Inference: The CLT forms the basis for many statistical methods and techniques, including hypothesis testing, confidence interval estimation, and regression analysis.\n",
    "\n",
    "Real-world Applications: It enables the use of normal distribution for making inferences about population parameters, even when the population distribution is unknown or non-normal.\n",
    "\n",
    "Reliability: The CLT ensures the robustness of statistical methods, allowing researchers to make valid inferences about population parameters based on samples from various populations.\n",
    "\n",
    "Simplicity: It simplifies the analysis of complex data sets by providing a standardized framework for understanding the distribution of sample means."
   ]
  },
  {
   "cell_type": "markdown",
   "id": "ad117137",
   "metadata": {},
   "source": [
    "##### Q10: State the assumptions of the Central Limit Theorem."
   ]
  },
  {
   "cell_type": "markdown",
   "id": "23858057",
   "metadata": {},
   "source": [
    "The Central Limit Theorem (CLT) relies on the following assumptions:\n",
    "\n",
    "Independence: The observations in the sample must be independent of each other. This means that the value of one observation does not influence the value of another observation.\n",
    "\n",
    "Sample Size: The sample size should be sufficiently large. While there is no strict rule for what constitutes \"sufficiently large,\" a common guideline is that the sample size should be at least 30. However, for populations with heavy tails or non-normal distributions, larger sample sizes may be necessary.\n",
    "\n",
    "Population Distribution: The population from which the samples are drawn should have a finite mean (μ) and a finite variance (σ \n",
    "square). While the population distribution does not need to be normal, the CLT tends to work better for populations that are not heavily skewed or have outliers."
   ]
  }
 ],
 "metadata": {
  "kernelspec": {
   "display_name": "Python 3 (ipykernel)",
   "language": "python",
   "name": "python3"
  },
  "language_info": {
   "codemirror_mode": {
    "name": "ipython",
    "version": 3
   },
   "file_extension": ".py",
   "mimetype": "text/x-python",
   "name": "python",
   "nbconvert_exporter": "python",
   "pygments_lexer": "ipython3",
   "version": "3.9.13"
  }
 },
 "nbformat": 4,
 "nbformat_minor": 5
}
