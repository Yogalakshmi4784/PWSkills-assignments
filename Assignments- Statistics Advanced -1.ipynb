{
 "cells": [
  {
   "cell_type": "markdown",
   "id": "00f9a4ec",
   "metadata": {},
   "source": [
    "##### Q1. What is the Probability density function?"
   ]
  },
  {
   "cell_type": "markdown",
   "id": "6d2633de",
   "metadata": {},
   "source": [
    "The Probability Density Function (PDF) describes the likelihood of a continuous random variable's values. It's non-negative and integrates to 1 over the variable's range. For any interval, the probability of the variable falling within it is the integral of the PDF over that interval. The PDF is crucial for calculating probabilities in various fields involving continuous variables."
   ]
  },
  {
   "cell_type": "markdown",
   "id": "4ce9a28b",
   "metadata": {},
   "source": [
    "##### Q2. What are the types of Probability distribution?"
   ]
  },
  {
   "cell_type": "markdown",
   "id": "1af3f4d7",
   "metadata": {},
   "source": [
    "\n",
    "There are several types of probability distributions:\n",
    "\n",
    "Discrete Distributions: Models discrete random variables, such as the Bernoulli, Binomial, and Poisson distributions.\n",
    "    \n",
    "Continuous Distributions: Models continuous random variables, like the Normal (Gaussian), Exponential, and Uniform distributions.\n",
    "    \n",
    "Mixed Distributions: Combine elements of both discrete and continuous distributions, such as the Mixed Poisson distribution.\n",
    "    \n",
    "Multivariate Distributions: Describe the joint behavior of multiple random variables, like the Multinomial and Multivariate Normal distributions.\n",
    "    \n",
    "Each distribution has its own characteristics and applications in various fields such as statistics, finance, and engineering."
   ]
  },
  {
   "cell_type": "markdown",
   "id": "d13a4389",
   "metadata": {},
   "source": [
    "##### Q3. Write a Python function to calculate the probability density function of a normal distribution with given mean and standard deviation at a given point."
   ]
  },
  {
   "cell_type": "code",
   "execution_count": 1,
   "id": "75ca1c14",
   "metadata": {},
   "outputs": [
    {
     "name": "stdout",
     "output_type": "stream",
     "text": [
      "1.758749542595104e-71\n"
     ]
    }
   ],
   "source": [
    "import math\n",
    "\n",
    "def normal_pdf(x, mu, sigma):\n",
    "     return (1 / (sigma * math.sqrt(2 * math.pi))) * math.exp(-0.5 * ((x - mu) / sigma) ** 2)\n",
    "    \n",
    "print(normal_pdf(20,2,1))"
   ]
  },
  {
   "cell_type": "markdown",
   "id": "857a5279",
   "metadata": {},
   "source": [
    "##### Q4. What are the properties of Binomial distribution? Give two examples of events where binomial distribution can be applied."
   ]
  },
  {
   "cell_type": "markdown",
   "id": "9d9d3e6c",
   "metadata": {},
   "source": [
    "\n",
    "The properties of the Binomial distribution include:\n",
    "\n",
    "- It models the number of successes in a fixed number of independent trials.\n",
    "\n",
    "- Each trial has two possible outcomes: success (usually denoted as 1) or failure (usually denoted as 0).\n",
    "\n",
    "- The probability of success, denoted by p, remains constant for each trial.\n",
    "\n",
    "- The trials are independent of each other.\n",
    "\n",
    "Examples where the Binomial distribution can be applied:\n",
    "\n",
    "- Coin flipping: The number of heads obtained when flipping a coin multiple times.\n",
    "\n",
    "- Product defects: The number of defective items produced in a manufacturing process with a known defect rate."
   ]
  },
  {
   "cell_type": "markdown",
   "id": "bd027529",
   "metadata": {},
   "source": [
    "##### Q5. Generate a random sample of size 1000 from a binomial distribution with probability of success 0.4 and plot a histogram of the results using matplotlib."
   ]
  },
  {
   "cell_type": "code",
   "execution_count": 4,
   "id": "60f4185a",
   "metadata": {},
   "outputs": [
    {
     "data": {
      "image/png": "[encoded data removed]",
      "text/plain": [
       "<Figure size 640x480 with 1 Axes>"
      ]
     },
     "metadata": {},
     "output_type": "display_data"
    }
   ],
   "source": [
    "import numpy as np\n",
    "import matplotlib.pyplot as plt\n",
    "\n",
    "sample_size=1000\n",
    "probability_of_success=0.4\n",
    "random_sample=np.random.binomial(n=1,p=probability_of_success, size=sample_size)\n",
    "\n",
    "# Plot histogram\n",
    "plt.hist(random_sample, bins=[0, 1, 2], align='left', edgecolor='black')\n",
    "plt.title('Histogram of Binomial Distribution')\n",
    "plt.xlabel('Number of Successes')\n",
    "plt.ylabel('Frequency')\n",
    "plt.xticks([0, 1])\n",
    "plt.show()\n"
   ]
  },
  {
   "cell_type": "markdown",
   "id": "c5103fb9",
   "metadata": {},
   "source": [
    "##### Q6. Write a Python function to calculate the cumulative distribution function of a Poisson distribution with given mean at a given point."
   ]
  },
  {
   "cell_type": "code",
   "execution_count": 5,
   "id": "e20b577c",
   "metadata": {},
   "outputs": [],
   "source": [
    "import math\n",
    "\n",
    "def poisson_cdf(x, lmbda):\n",
    "    \"\"\"\n",
    "    Calculate the cumulative distribution function (CDF) of a Poisson distribution\n",
    "    at a given point x, with mean lambda.\n",
    "    \n",
    "    Parameters:\n",
    "        x (int): The point at which to evaluate the CDF.\n",
    "        lmbda (float): The mean of the Poisson distribution.\n",
    "    \n",
    "    Returns:\n",
    "        float: The value of the CDF at the given point x.\n",
    "    \"\"\"\n",
    "    cdf = 0\n",
    "    for i in range(x + 1):\n",
    "        cdf += (math.exp(-lmbda) * (lmbda ** i)) / math.factorial(i)\n",
    "    return cdf"
   ]
  },
  {
   "cell_type": "code",
   "execution_count": 6,
   "id": "85a6e423",
   "metadata": {},
   "outputs": [
    {
     "data": {
      "text/plain": [
       "0.9863047314016171"
      ]
     },
     "execution_count": 6,
     "metadata": {},
     "output_type": "execute_result"
    }
   ],
   "source": [
    "poisson_cdf(10,5)"
   ]
  },
  {
   "cell_type": "markdown",
   "id": "df9b84b6",
   "metadata": {},
   "source": [
    "##### Q7. How Binomial distribution different from Poisson distribution?"
   ]
  },
  {
   "cell_type": "markdown",
   "id": "bb841766",
   "metadata": {},
   "source": [
    "The main differences between the Binomial and Poisson distributions are:\n",
    "\n",
    "- Nature of Trials:\n",
    "\n",
    "Binomial: Fixed number of independent trials, each with two possible outcomes (success or failure).\n",
    "\n",
    "Poisson: Represents the number of events occurring in a fixed interval of time or space, with events occurring independently and at a constant rate.\n",
    "\n",
    "- Parameters:\n",
    "\n",
    "Binomial: Requires two parameters - the number of trials n and the probability of success p.\n",
    "Poisson: Requires only one parameter - the average rate of event occurrences λ.\n",
    "\n",
    "- Applicability:\n",
    "\n",
    "Binomial: Suitable for situations with a fixed number of trials and a constant probability of success, such as coin flipping or product defects.\n",
    "\n",
    "Poisson: Applicable when the number of events occurring in a fixed interval follows a certain pattern, such as the number of arrivals at a bus stop or the number of emails received per hour."
   ]
  },
  {
   "cell_type": "markdown",
   "id": "dd50e580",
   "metadata": {},
   "source": [
    "##### Q8. Generate a random sample of size 1000 from a Poisson distribution with mean 5 and calculate the sample mean and variance."
   ]
  },
  {
   "cell_type": "code",
   "execution_count": 9,
   "id": "498ba73b",
   "metadata": {},
   "outputs": [
    {
     "name": "stdout",
     "output_type": "stream",
     "text": [
      "Sample Mean: 4.975\n",
      "Sample Variance: 4.882375\n"
     ]
    }
   ],
   "source": [
    "import numpy as np\n",
    "\n",
    "# Generate random sample from Poisson distribution\n",
    "sample_size = 1000\n",
    "mean = 5\n",
    "random_sample = np.random.poisson(mean, size=sample_size)\n",
    "\n",
    "# Calculate sample mean and variance\n",
    "sample_mean = np.mean(random_sample)\n",
    "sample_variance = np.var(random_sample)\n",
    "\n",
    "print(\"Sample Mean:\", sample_mean)\n",
    "print(\"Sample Variance:\", sample_variance)"
   ]
  },
  {
   "cell_type": "markdown",
   "id": "538442f3",
   "metadata": {},
   "source": [
    "##### Q9. How mean and variance are related in Binomial distribution and Poisson distribution?"
   ]
  },
  {
   "cell_type": "markdown",
   "id": "ec8e223f",
   "metadata": {},
   "source": [
    "In both the Binomial and Poisson distributions, the mean and variance are closely related:\n",
    "\n",
    "Binomial Distribution:\n",
    "\n",
    "Mean: \n",
    "μ=np\n",
    "Variance: \n",
    "variance=np(1−p)\n",
    "In the binomial distribution, the variance is directly proportional to both the number of trials n and the probability of success p. It represents the spread or dispersion of the distribution around the mean.\n",
    "\n",
    "Poisson Distribution:\n",
    "\n",
    "Mean: \n",
    "μ=λ\n",
    "Variance=λ\n",
    "In the Poisson distribution, both the mean and variance are equal to the rate parameter λ. This reflects the characteristic property of the Poisson distribution where the mean and variance are the same, indicating a particular pattern of event occurrences over a fixed interval of time or space."
   ]
  },
  {
   "cell_type": "markdown",
   "id": "06c5e0de",
   "metadata": {},
   "source": [
    "##### Q10. In normal distribution with respect to mean position, where does the least frequent data appear?"
   ]
  },
  {
   "cell_type": "markdown",
   "id": "f6ce79a1",
   "metadata": {},
   "source": [
    "In a normal distribution, the least frequent data appears at the tails of the distribution, farthest away from the mean. This is because the normal distribution is symmetric around its mean, and the probability density decreases as you move away from the mean towards the tails. Therefore, data points that are several standard deviations away from the mean (in either direction) are less likely to occur, making them the least frequent in the distribution"
   ]
  }
 ],
 "metadata": {
  "kernelspec": {
   "display_name": "Python 3 (ipykernel)",
   "language": "python",
   "name": "python3"
  },
  "language_info": {
   "codemirror_mode": {
    "name": "ipython",
    "version": 3
   },
   "file_extension": ".py",
   "mimetype": "text/x-python",
   "name": "python",
   "nbconvert_exporter": "python",
   "pygments_lexer": "ipython3",
   "version": "3.9.13"
  }
 },
 "nbformat": 4,
 "nbformat_minor": 5
}
